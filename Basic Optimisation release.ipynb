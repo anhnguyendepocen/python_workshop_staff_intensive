{
 "cells": [
  {
   "cell_type": "markdown",
   "metadata": {
    "deletable": false,
    "editable": false,
    "graffitiCellId": "id_1zjk10j",
    "nbgrader": {
     "checksum": "1ee5bafd9cd438022407667a310a34da",
     "grade": false,
     "grade_id": "cell-ad2d9d4d5bd42c5e",
     "locked": true,
     "schema_version": 1,
     "solution": false
    }
   },
   "source": [
    "# Basic Optimisation using Python\n",
    "Jessica Leung\n",
    "\n",
    "\n",
    "\n",
    "In this notebook, we are going to demonstrate how to solve an optimization problem in Python with different tools available. We will be using the following packages:\n",
    "- `scipy.optimize` (comes with Anaconda)\n",
    "- `Gurobi` (To install, go to [installation guide](https://www.dropbox.com/s/7q76pb9b3dxwa7f/GurobiInstallation.pdf?dl=0))\n",
    "- `cvxpy` (To install, type `conda install cvx` to your terminal/anaconda prompt, or go to https://www.cvxpy.org/install/index.html)\n",
    "\n",
    "All three packages are very powerful tools with very comprehensive documentation. Depending on the problem that you want to solve, you may find one package more user-friendly than the other.\n",
    "\n",
    "- `Scipy.optimize` documentation: https://docs.scipy.org/doc/scipy/reference/optimize.html\n",
    "- `Gurobi` documentation: https://www.gurobi.com/documentation/\n",
    "- `cvxpy` documentation: https://www.cvxpy.org/tutorial/index.html"
   ]
  },
  {
   "cell_type": "markdown",
   "metadata": {
    "deletable": false,
    "editable": false,
    "nbgrader": {
     "checksum": "ad6b16efb342febe7ce3900557af5e50",
     "grade": false,
     "grade_id": "cell-0b1bf4128aac2303",
     "locked": true,
     "schema_version": 1,
     "solution": false
    }
   },
   "source": [
    "## Using `Scipy.optimize`\n",
    "\n",
    "Let's start by finding the minimum of the scalar function $$f(x) = -0.3e^{(x-0.6)^2}$$\n",
    "\n",
    "Here we provide initial guess as $1.0$."
   ]
  },
  {
   "cell_type": "code",
   "execution_count": null,
   "metadata": {
    "graffitiCellId": "id_cpb20zf"
   },
   "outputs": [],
   "source": [
    "import numpy as np\n",
    "from scipy.optimize import minimize\n",
    "def f(x):\n",
    "    return -0.3*np.exp(-(x-0.6)**2)\n",
    "result = minimize(fun = f, x0 = [1.0])\n",
    "print (result.x)"
   ]
  },
  {
   "cell_type": "markdown",
   "metadata": {
    "deletable": false,
    "editable": false,
    "nbgrader": {
     "checksum": "cecd4c51c67d1f75f06058b0c42209d3",
     "grade": false,
     "grade_id": "cell-8cbdf5c6cd4edc8a",
     "locked": true,
     "schema_version": 1,
     "solution": false
    }
   },
   "source": [
    "The syntax `.x` here tells the package that we would like to know the current value of our variable. (No matter what our variable is, the syntax remain to be `.x`.)\n",
    "\n",
    "We can plot the function and our minimum point to verify the result."
   ]
  },
  {
   "cell_type": "code",
   "execution_count": null,
   "metadata": {},
   "outputs": [],
   "source": [
    "import matplotlib.pyplot as plt\n",
    "x = np.linspace(-3,3,200)\n",
    "plt.plot(x,f(x))\n",
    "plt.plot(0.59999517, f(0.59999517), 'ro')\n",
    "plt.show()"
   ]
  },
  {
   "cell_type": "markdown",
   "metadata": {
    "deletable": false,
    "editable": false,
    "nbgrader": {
     "checksum": "1a40b37a1f8f35cbd4e4947991b4d19d",
     "grade": false,
     "grade_id": "cell-c41dae3dfe61a6f7",
     "locked": true,
     "schema_version": 1,
     "solution": false
    }
   },
   "source": [
    "`scipy.optimize` can also handles multivariate functions. Depending on the function that you are trying to optimize (convex or not, smooth or not, linear or not), there is a wide variety of methods to choose from in the `scipy.optimize` package.\n",
    "\n"
   ]
  },
  {
   "cell_type": "code",
   "execution_count": null,
   "metadata": {},
   "outputs": [],
   "source": [
    "from scipy.optimize import minimize\n",
    "def g(y):\n",
    "    return np.sqrt((2*y[0] - 5)**2 + (6*y[1] - 3)**2)\n",
    "result = minimize(fun = g, x0 = [0,0])\n",
    "print (result.x)"
   ]
  },
  {
   "cell_type": "code",
   "execution_count": null,
   "metadata": {},
   "outputs": [],
   "source": [
    "x, y = np.mgrid[-2.03:4.2:.04, -1.6:3.2:.04]\n",
    "x = x.T\n",
    "y = y.T\n",
    "plt.figure(1, figsize=(5, 5))\n",
    "contours = plt.contour(np.sqrt((2*x - 5)**2 + (6*y - 3)**2),\n",
    "                    extent=[-2.03, 4.2, -1.6, 3.2],\n",
    "                    cmap=plt.cm.gnuplot)\n",
    "plt.plot(2.49999999,0.49999999, 'rx')"
   ]
  },
  {
   "cell_type": "markdown",
   "metadata": {
    "deletable": false,
    "editable": false,
    "nbgrader": {
     "checksum": "4960edde767e5df7661e702ea59d5e61",
     "grade": false,
     "grade_id": "cell-93c5749aa19b5c0d",
     "locked": true,
     "schema_version": 1,
     "solution": false
    }
   },
   "source": [
    "## Using `Gurobi`\n",
    "\n",
    "Gurobi is a commerical solver that is capable of handling complex mathematical problems, including linear programming (LP), mixed-integer linear programming (MILP), quadratic programming (QP), mixed-integer quadratic programming (MIQP), Quadratically-constrained programming (QCP) and mixed-integer quadratically constrainted programming (MIQCP).\n",
    "\n",
    "Free academic license available on https://www.gurobi.com/. Please refer to the [installation guide](https://www.dropbox.com/s/7q76pb9b3dxwa7f/GurobiInstallation.pdf?dl=0) for more details on installation and the license.\n",
    "\n",
    "Let's start with a simple LP problem. Consider the following problem:\n",
    "\n",
    "General Auto manufactures luxury cars and trucks. The company believes its target customers are high-income men and women. To reach this group, General Auto has embarked on an ambitious TV advertising campaign and will purchase 1-minute commercial spots on two types of programs: comedy shows and football games.\n",
    "\n",
    "- Each comedy commercial is seen by 7 million high income women and 2 million high-income men and costs \\$50,000.\n",
    "\n",
    "- Each football game is seen by 2 million high-income women and 12 million high-income men and costs \\$100,000.\n",
    "\n",
    "- General Auto would like for commercials to be seen by at least 28 million high-income women and 24 million high-income men.\n",
    "\n",
    "Use LP to determine how General Auto can meet its advertising requirements at minimum cost.\n",
    "\n",
    "General Auto must decide how many comedy and football ads should be purchased, so the decision variables are\n",
    "- $x_{comedy}$ - number of 1-minute comedy ads purchased\n",
    "- $x_{football}$ - number of 1-minute football ads purchased\n",
    "\n",
    "Then the problem can be formulated as:\n",
    "\n",
    "$$\\text{minimize}  \\quad 50 x_{comedy} + 100 x_{football} $$\n",
    "$$ \\text{subject to}  \\quad 7 x_{comedy} + 2 x_{football} \\geq 28 $$\n",
    "$$\\quad 2 x_{comedy} + 12 x_{football} \\geq 24 $$\n",
    "$$\\quad x_{comedy}, x_{football}\\geq 0$$\n"
   ]
  },
  {
   "cell_type": "markdown",
   "metadata": {
    "deletable": false,
    "editable": false,
    "nbgrader": {
     "checksum": "ad39633a315ebd2092f7a2c31c562bf9",
     "grade": false,
     "grade_id": "cell-f1ee85d5808ca7ff",
     "locked": true,
     "schema_version": 1,
     "solution": false
    }
   },
   "source": [
    "### Define model and input data\n",
    "First, we should import the package `gurobipy`. Naming the module by abbreviation `grb` allows easy reference to the module and avoid confusion with other packages. You can also name it with any other abbreviations. \n",
    "\n",
    "Then we define a model `m` and name it `General Auto`."
   ]
  },
  {
   "cell_type": "code",
   "execution_count": null,
   "metadata": {},
   "outputs": [],
   "source": [
    "import gurobipy as grb\n",
    "# Define a model\n",
    "m = grb.Model('General Auto')\n",
    "# Input data\n",
    "Comedy = {'women':7,'men':2}\n",
    "Football = {'women':2,'men':12}\n",
    "MinView = {'women':28,'men':24}\n",
    "Cost = {'Comedy':50, 'Football':100}"
   ]
  },
  {
   "cell_type": "markdown",
   "metadata": {
    "deletable": false,
    "editable": false,
    "nbgrader": {
     "checksum": "947a100a5305f22b86db7f91c7615be5",
     "grade": false,
     "grade_id": "cell-03651182d72d0168",
     "locked": true,
     "schema_version": 1,
     "solution": false
    }
   },
   "source": [
    "### Define variables\n",
    "\n",
    "Create an empty vector x and define the elements in the vector. \n",
    "\n",
    "Use the function 'addVar' to add variables into the model 'm'. As input arguments of the function, You should include the variable types 'vtype=' and the name of the variables 'name='.By default, the decision variables are non-negative. Since we are defining varibles for the Gurobi solver, 'grb.GRB.' must be reffered.\n",
    "\n",
    "Let $x_{comedy}$ and $x_{football}$ are continuous variables which correspond to the number of one minutes comedy and football ads purchased respectively.\n",
    "\n",
    "You can define the objective function by including the coefficients while defining the decision variables. Python will sum the product of the decision variables and the coefficient as the objective function."
   ]
  },
  {
   "cell_type": "code",
   "execution_count": null,
   "metadata": {},
   "outputs": [],
   "source": [
    "#Define the decision variables\n",
    "x={}\n",
    "for k,v in Cost.items():\n",
    "    x[k] = m.addVar(vtype = grb.GRB.CONTINUOUS, obj = v, name= 'x_{}'.format(k))"
   ]
  },
  {
   "cell_type": "markdown",
   "metadata": {
    "deletable": false,
    "editable": false,
    "nbgrader": {
     "checksum": "8c0df8fbdb2ac7e1739d69641a1892f2",
     "grade": false,
     "grade_id": "cell-ab7181938e87be10",
     "locked": true,
     "schema_version": 1,
     "solution": false
    }
   },
   "source": [
    "### Define model sense\n",
    "Define the objective function using the function 'modelSense' on model 'm'. The sense of the model represents whether to maximise or to minimise the objective function. Since we are Gurobi as the solver, 'grb.GRB.' must be reffered.\n",
    "\n",
    "We are trying to minimise the cost, thus we should minimise the objective function.\n",
    "\n"
   ]
  },
  {
   "cell_type": "code",
   "execution_count": null,
   "metadata": {},
   "outputs": [],
   "source": [
    "#Define model sense\n",
    "m.modelSense = grb.GRB.MINIMIZE"
   ]
  },
  {
   "cell_type": "markdown",
   "metadata": {
    "deletable": false,
    "editable": false,
    "nbgrader": {
     "checksum": "757e66ac99a7311e0ea4ac64bc22c497",
     "grade": false,
     "grade_id": "cell-8867e2734a3739dd",
     "locked": true,
     "schema_version": 1,
     "solution": false
    }
   },
   "source": [
    "**Alternatively**, the objective function can be set manually using the function 'setObjective'. Remember to include the sense of the objective (maximise or minimise) as an argument of the function. Once the function 'setObjective' is used, the coefficients that has been defined using 'addVar' will be ignored."
   ]
  },
  {
   "cell_type": "code",
   "execution_count": null,
   "metadata": {},
   "outputs": [],
   "source": [
    "m.setObjective(50*x['Comedy']+100*x['Football'], grb.GRB.MINIMIZE)"
   ]
  },
  {
   "cell_type": "markdown",
   "metadata": {
    "deletable": false,
    "editable": false,
    "nbgrader": {
     "checksum": "f028a5c16cb193077409d043e5bc1999",
     "grade": false,
     "grade_id": "cell-5f7867ba64ae3d31",
     "locked": true,
     "schema_version": 1,
     "solution": false
    }
   },
   "source": [
    "### Add constraints\n",
    "Use the function 'addConstr' to add constraints into the model 'm'. The constraints can be typed explicitly with the decision variables defined earlier. Name the constraints as reference and avoid confusion."
   ]
  },
  {
   "cell_type": "code",
   "execution_count": null,
   "metadata": {},
   "outputs": [],
   "source": [
    "# constraints\n",
    "for k,v in MinView.items():\n",
    "    m.addConstr(x['Comedy']*Comedy[k]+x['Football']*Football[k]>= v, name='MinView_{}'.format(k))"
   ]
  },
  {
   "cell_type": "markdown",
   "metadata": {
    "deletable": false,
    "editable": false,
    "nbgrader": {
     "checksum": "79c9487158b893484cbd16b9601d1f7b",
     "grade": false,
     "grade_id": "cell-8b0f75efb0b895db",
     "locked": true,
     "schema_version": 1,
     "solution": false
    }
   },
   "source": [
    "### Solve the mathematical problem\n",
    "\n",
    "Solve the problem by optimising the model `m`"
   ]
  },
  {
   "cell_type": "code",
   "execution_count": null,
   "metadata": {},
   "outputs": [],
   "source": [
    "# Solve\n",
    "m.optimize()"
   ]
  },
  {
   "cell_type": "markdown",
   "metadata": {
    "deletable": false,
    "editable": false,
    "nbgrader": {
     "checksum": "0aad9a54c31b5830ef92b6ed0382f5be",
     "grade": false,
     "grade_id": "cell-c4d1fb92c4859b4b",
     "locked": true,
     "schema_version": 1,
     "solution": false
    }
   },
   "source": [
    "### Display the solution\n",
    "\n",
    "Here we use the syntax `.x` to obtain the current value of our variabels and `.objVal` to obtain the optimal of the model."
   ]
  },
  {
   "cell_type": "code",
   "execution_count": null,
   "metadata": {},
   "outputs": [],
   "source": [
    "print ('----------------------------------')\n",
    "for i in Cost:\n",
    "    print ('{:.2f} ads on {} is purchsed.'.format(x[i].x,i))\n",
    "print ('----------------------------------')\n",
    "print ('Total cost: ${:.2f}'.format(m.objVal))"
   ]
  },
  {
   "cell_type": "markdown",
   "metadata": {
    "deletable": false,
    "editable": false,
    "nbgrader": {
     "checksum": "95c90050b38c169e9ec7743c91ae8a1a",
     "grade": false,
     "grade_id": "cell-7a81fe1af648a3ed",
     "locked": true,
     "schema_version": 1,
     "solution": false
    }
   },
   "source": [
    "Conclusion and interpretation: Total cost is \\$320 with 1.4 1-min football ads and 3.6 1-min Comedy ads purchased respectively."
   ]
  },
  {
   "cell_type": "markdown",
   "metadata": {
    "deletable": false,
    "editable": false,
    "nbgrader": {
     "checksum": "9995dd976381d7944db443222e8c2dc9",
     "grade": false,
     "grade_id": "cell-c0018fee7b7f62c8",
     "locked": true,
     "schema_version": 1,
     "solution": false
    }
   },
   "source": [
    "#### Hard Code in Gurobi\n",
    "\n",
    "Alternatively, you can also hard code your mathematical problem in Gurobi. It may be simpler and faster for some problem but not necessarily scalable. Again, it all depends on your problem/application."
   ]
  },
  {
   "cell_type": "code",
   "execution_count": null,
   "metadata": {},
   "outputs": [],
   "source": [
    "d = grb.Model('General Auto2')\n",
    "x1 = d.addVar(vtype = grb.GRB.CONTINUOUS, obj = 50)\n",
    "x2 = d.addVar(vtype = grb.GRB.CONTINUOUS, obj = 100)\n",
    "d.modelSense = grb.GRB.MINIMIZE\n",
    "d.addConstr(7*x1 + 2*x2 >= 28)\n",
    "d.addConstr(2*x1 + 12*x2 >= 24)\n",
    "d.optimize()\n",
    "print ('----------------------------------')\n",
    "print ('{:.2f} ads on Comedy is purhcased.'.format(x1.x))\n",
    "print ('{:.2f} ads on Football is purhcased.'.format(x2.x))\n",
    "print ('----------------------------------')\n",
    "print ('Total cost: ${:.2f}'.format(m.objVal))"
   ]
  },
  {
   "cell_type": "markdown",
   "metadata": {
    "deletable": false,
    "editable": false,
    "nbgrader": {
     "checksum": "b1dd5cdb2cc11b034dfa8e403345fbd3",
     "grade": false,
     "grade_id": "cell-4901d1242bdce7eb",
     "locked": true,
     "schema_version": 1,
     "solution": false
    }
   },
   "source": [
    "## Using `cvxpy`\n",
    "\n",
    "CVXPY is a Python-embedded modeling language for convex optimization problems. It automatically transforms the problem into standard form, calls a solver, and unpacks the results.\n",
    "\n",
    "To install, type `conda install cvxpy` to the terminal/anaconda prompt.\n",
    "\n",
    "Let's solve the same problem (General Auto) with `cvxpy` instead."
   ]
  },
  {
   "cell_type": "code",
   "execution_count": null,
   "metadata": {},
   "outputs": [],
   "source": [
    "import cvxpy as cp\n",
    "\n",
    "# Create two scalar optimization variables.\n",
    "x1 = cp.Variable()\n",
    "x2 = cp.Variable()\n",
    "\n",
    "# Create two constraints.\n",
    "constraints = [7*x1 + 2*x2 >= 28,\n",
    "               2*x1 + 12*x2 >= 24,\n",
    "              x1 >= 0,\n",
    "              x2 >= 0]\n",
    "\n",
    "# Form objective.\n",
    "obj = cp.Minimize(50*x1 + 100*x2)\n",
    "\n",
    "# Form and solve problem.\n",
    "prob = cp.Problem(obj, constraints)\n",
    "prob.solve()  # Returns the optimal value.\n",
    "print(\"status:\", prob.status)\n",
    "print(\"optimal value\", prob.value)\n",
    "print(\"optimal var\", x1.value, x2.value)"
   ]
  },
  {
   "cell_type": "markdown",
   "metadata": {
    "deletable": false,
    "editable": false,
    "nbgrader": {
     "checksum": "456c78c10e9b5cd34d4064d31f959388",
     "grade": false,
     "grade_id": "cell-752e68f1459cfc68",
     "locked": true,
     "schema_version": 1,
     "solution": false
    }
   },
   "source": [
    "## A Simple Machine Learning Example using CVXPY\n",
    "\n",
    "### Logistic Regression with $\\ell_1$ regularisation\n",
    "\n",
    "In this example, we train a logistic regression classifier with $\\ell_1$ regularisation. Given data $x_i \\in \\mathbf{R}^n$ and $y_i \\in \\{0,1\\}, i = 1,...,n$, our goal is to learn a linear classifier $\\hat{y} = I[x \\beta > 0]$.\n",
    "\n",
    "We can model this relationship as follows:\n",
    "$$ log \\dfrac{Pr(Y = 1| X = x)}{Pr(Y = 0| X = x)} = x \\beta$$\n",
    "\n",
    "Therefore, we fit $\\beta$ by maximising the log-likelihood of the data, plus a regularisation term $\\lambda \\|\\beta\\|_1$ where $\\lambda > 0$:\n",
    "\n",
    "$$ \\ell(\\beta) = \\sum_{i = 1}^n y_i (x\\beta)_i - log(1 + exp((x\\beta)_i)) - \\lambda \\|\\beta\\|_1$$\n",
    "\n",
    "This objective function is concave in $\\beta$, so maximising this concave function is a convex optimisation problem. For simplification, we take $\\lambda = 0.1$ in this example. In practice, you can perform cross validation to find the best value of $\\lambda$."
   ]
  },
  {
   "cell_type": "markdown",
   "metadata": {
    "deletable": false,
    "editable": false,
    "nbgrader": {
     "checksum": "24c7601b38328b3ff272c68023bf8ad1",
     "grade": false,
     "grade_id": "cell-ea269a1c13f96481",
     "locked": true,
     "schema_version": 1,
     "solution": false
    }
   },
   "source": [
    "In the following code we generate data with $p=50$ features by randomly choosing $x_i$ and supplying a sparse $\\beta_{true} \\in \\mathbf{R}^n$."
   ]
  },
  {
   "cell_type": "code",
   "execution_count": null,
   "metadata": {},
   "outputs": [],
   "source": [
    "np.random.seed(0)\n",
    "p = 50\n",
    "n = 50\n",
    "\n",
    "def sigmoid(z):\n",
    "    return 1/(1 + np.exp(-z))\n",
    "\n",
    "beta_true = np.array([1, 0.5, -0.5] + [0]*(p - 3))\n",
    "X = (np.random.random((n, p)) - 0.5)*10\n",
    "Y = np.round(sigmoid(X @ beta_true + np.random.randn(n)*0.5))\n",
    "\n",
    "beta = cp.Variable(n)\n",
    "lambd = 0.1\n",
    "log_likelihood = cp.sum(\n",
    "    cp.multiply(Y, X @ beta) - cp.logistic(X @ beta))\n",
    "problem = cp.Problem(cp.Maximize(log_likelihood/p - lambd * cp.norm(beta, 1)))\n",
    "problem.solve()\n",
    "print(\"status:\", problem.status)\n",
    "print(\"optimal value\", problem.value)\n",
    "print(\"optimal var\", beta.value)\n",
    "\n",
    "plt.plot(beta_true, label=r\"True $\\beta$\")\n",
    "plt.plot(beta.value, label=r\"Reconstructed $\\beta$\")\n",
    "plt.xlabel(r\"$i$\", fontsize=16)\n",
    "plt.ylabel(r\"$\\beta_i$\", fontsize=16)\n",
    "plt.legend(loc=\"upper right\")"
   ]
  },
  {
   "cell_type": "code",
   "execution_count": null,
   "metadata": {},
   "outputs": [],
   "source": []
  }
 ],
 "metadata": {
  "graffiti": {
   "firstAuthorId": "dev",
   "id": "id_4p9hqu4",
   "language": "EN"
  },
  "kernelspec": {
   "display_name": "Python 3",
   "language": "python",
   "name": "python3"
  },
  "language_info": {
   "codemirror_mode": {
    "name": "ipython",
    "version": 3
   },
   "file_extension": ".py",
   "mimetype": "text/x-python",
   "name": "python",
   "nbconvert_exporter": "python",
   "pygments_lexer": "ipython3",
   "version": "3.7.3"
  }
 },
 "nbformat": 4,
 "nbformat_minor": 2
}
